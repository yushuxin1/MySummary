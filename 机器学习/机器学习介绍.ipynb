{
 "cells": [
  {
   "cell_type": "markdown",
   "metadata": {},
   "source": [
    "### 数据集构成：目标值+特征值"
   ]
  },
  {
   "cell_type": "markdown",
   "metadata": {},
   "source": [
    "### 机器学习算法分类：  \n",
    "    监督学习：  \n",
    "        目标值： 类别--分类问题  \n",
    "            分类：k-近邻算法、贝叶斯分类、决策树与随机森林、逻辑回归  \n",
    "        目标值： 连续性的数据--回归问题  \n",
    "            回归：线性回归、岭回归  \n",
    "    目标值： 无 - 无监督学习  \n",
    "        聚类：k-means"
   ]
  },
  {
   "cell_type": "markdown",
   "metadata": {},
   "source": [
    "### 机器学习开发流程  \n",
    "    获取数据\n",
    "    数据处理\n",
    "    特征工程\n",
    "    机器学习算法训练 - 模型\n",
    "    模型评估"
   ]
  },
  {
   "cell_type": "markdown",
   "metadata": {},
   "source": [
    "机器学习框架：sklearn\n",
    "\n",
    "深度学习框架：pytorch   tensorflow  theano  Chiner "
   ]
  },
  {
   "cell_type": "code",
   "execution_count": null,
   "metadata": {},
   "outputs": [],
   "source": []
  }
 ],
 "metadata": {
  "kernelspec": {
   "display_name": "Python 3",
   "language": "python",
   "name": "python3"
  },
  "language_info": {
   "codemirror_mode": {
    "name": "ipython",
    "version": 3
   },
   "file_extension": ".py",
   "mimetype": "text/x-python",
   "name": "python",
   "nbconvert_exporter": "python",
   "pygments_lexer": "ipython3",
   "version": "3.6.8"
  }
 },
 "nbformat": 4,
 "nbformat_minor": 2
}
