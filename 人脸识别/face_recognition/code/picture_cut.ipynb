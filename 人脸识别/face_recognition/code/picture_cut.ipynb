{
 "cells": [
  {
   "cell_type": "code",
   "execution_count": 1,
   "metadata": {},
   "outputs": [],
   "source": [
    "from PIL import Image\n",
    "import face_recognition"
   ]
  },
  {
   "cell_type": "code",
   "execution_count": 2,
   "metadata": {},
   "outputs": [
    {
     "name": "stdout",
     "output_type": "stream",
     "text": [
      "[[[ 32  42  44]\n",
      "  [ 32  42  44]\n",
      "  [ 32  42  44]\n",
      "  ...\n",
      "  [ 26  31  37]\n",
      "  [ 25  30  36]\n",
      "  [ 24  29  35]]\n",
      "\n",
      " [[ 31  41  43]\n",
      "  [ 31  41  43]\n",
      "  [ 31  41  43]\n",
      "  ...\n",
      "  [ 20  25  31]\n",
      "  [ 19  24  30]\n",
      "  [ 19  24  30]]\n",
      "\n",
      " [[ 34  44  46]\n",
      "  [ 34  44  46]\n",
      "  [ 34  44  46]\n",
      "  ...\n",
      "  [ 17  22  28]\n",
      "  [ 16  21  27]\n",
      "  [ 16  21  27]]\n",
      "\n",
      " ...\n",
      "\n",
      " [[ 41  53  65]\n",
      "  [ 49  62  71]\n",
      "  [ 40  49  58]\n",
      "  ...\n",
      "  [ 58  58  66]\n",
      "  [ 58  58  66]\n",
      "  [ 59  59  67]]\n",
      "\n",
      " [[ 29  42  51]\n",
      "  [ 31  44  52]\n",
      "  [ 38  47  54]\n",
      "  ...\n",
      "  [ 39  40  45]\n",
      "  [ 38  39  44]\n",
      "  [ 41  42  47]]\n",
      "\n",
      " [[ 86  99 107]\n",
      "  [ 87 100 106]\n",
      "  [ 94 103 110]\n",
      "  ...\n",
      "  [ 97  98 103]\n",
      "  [ 97  98 103]\n",
      "  [ 99 100 105]]]\n"
     ]
    }
   ],
   "source": [
    "# 将jpg文件加载到numpy数组中\n",
    "image = face_recognition.load_image_file(\"../image/people.jpg\")\n",
    "print(image)"
   ]
  },
  {
   "cell_type": "code",
   "execution_count": 3,
   "metadata": {},
   "outputs": [
    {
     "name": "stdout",
     "output_type": "stream",
     "text": [
      "[(36, 93, 79, 50), (66, 149, 102, 113)]\n",
      "我在这张照片中找到了2个面孔\n"
     ]
    }
   ],
   "source": [
    "# 使用默认的基于HOG的模型查找图像中的所有面\n",
    "# 这种方法相当准确，但不如CNN模型准确，也没有GPU加速\n",
    "\n",
    "# 在图片中查找所有面孔\n",
    "face_locations = face_recognition.face_locations(image)\n",
    "print(face_locations)\n",
    "print(\"我在这张照片中找到了{}个面孔\".format(len(face_locations)))"
   ]
  },
  {
   "cell_type": "code",
   "execution_count": 4,
   "metadata": {},
   "outputs": [
    {
     "name": "stdout",
     "output_type": "stream",
     "text": [
      "面部位于像素位置 top：36, left：50, bottom： 79, right：93\n",
      "面部位于像素位置 top：66, left：113, bottom： 102, right：149\n"
     ]
    }
   ],
   "source": [
    "for face_location in face_locations:\n",
    "    #  打印此图像中每张脸的位置\n",
    "    top, right, bottom, left = face_location\n",
    "    print(\"面部位于像素位置 top：{}, left：{}, bottom： {}, right：{}\".format(top, left, bottom, right))\n",
    "    \n",
    "    #  您可以像这样访问实际面部\n",
    "    #     array转换成image\n",
    "    face_image = image[top: bottom, left: right]\n",
    "    pil_image = Image.fromarray(face_image)\n",
    "    pil_image.show()"
   ]
  },
  {
   "cell_type": "code",
   "execution_count": null,
   "metadata": {},
   "outputs": [],
   "source": []
  }
 ],
 "metadata": {
  "kernelspec": {
   "display_name": "Python 3",
   "language": "python",
   "name": "python3"
  },
  "language_info": {
   "codemirror_mode": {
    "name": "ipython",
    "version": 3
   },
   "file_extension": ".py",
   "mimetype": "text/x-python",
   "name": "python",
   "nbconvert_exporter": "python",
   "pygments_lexer": "ipython3",
   "version": "3.6.8"
  }
 },
 "nbformat": 4,
 "nbformat_minor": 2
}
