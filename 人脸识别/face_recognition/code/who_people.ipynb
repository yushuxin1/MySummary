{
 "cells": [
  {
   "cell_type": "code",
   "execution_count": 2,
   "metadata": {},
   "outputs": [],
   "source": [
    "import face_recognition"
   ]
  },
  {
   "cell_type": "code",
   "execution_count": 10,
   "metadata": {},
   "outputs": [],
   "source": [
    "#  将JPG图片加载到numpy数组中\n",
    "obama_image = face_recognition.load_image_file(\"../image/obama.jpg\")\n",
    "yangmi_image = face_recognition.load_image_file(\"../image/杨幂.jpg\")\n",
    "unknown_image = face_recognition.load_image_file(\"../image/千玺.jpg\")"
   ]
  },
  {
   "cell_type": "code",
   "execution_count": 11,
   "metadata": {},
   "outputs": [
    {
     "name": "stdout",
     "output_type": "stream",
     "text": [
      "未知面孔是奥巴马的照片吗？False\n",
      "未知面孔是杨幂的照片吗？False\n",
      "未知的脸使我们从来没见过的新人？True\n"
     ]
    }
   ],
   "source": [
    "# 获取每个图像文件中每个面部的面部编码\n",
    "# 由于每个图像中可能有多个面，因此它返回一个编码列表\n",
    "# 但是因为我知道每张照片只有一张脸， 所以我只关心每个图像中的第一个编码，所以我用索引0\n",
    "try:\n",
    "    obama_face_encoding = face_recognition.face_encodings(obama_image)[0]\n",
    "    yangmi_face_encoding = face_recognition.face_encodings(yangmi_image)[0]\n",
    "    unknown_face_encoding = face_recognition.face_encodings(unknown_image)[0]\n",
    "except IndexError:\n",
    "    print(\"I wasn't able to locate any faces in at least one of the images. Check the image files. Aborting...\")\n",
    "    quit()\n",
    "\n",
    "known_faces = [\n",
    "    obama_face_encoding,\n",
    "    yangmi_face_encoding\n",
    "]\n",
    "    \n",
    "# 检测结果是一个真假数组来告诉我们位置图片的脸是否与已知脸的数组匹配\n",
    "# compare_faces 将人脸编码列表与候选编码进行比较，看它们是否匹配。\n",
    "# 一个true/false值列表，指示要检查的已知面部编码与面部编码匹配。\n",
    "results = face_recognition.compare_faces(known_faces, unknown_face_encoding)\n",
    "\n",
    "print(\"未知面孔是奥巴马的照片吗？{}\".format(results[0]))\n",
    "print(\"未知面孔是杨幂的照片吗？{}\".format(results[1]))\n",
    "print(\"未知的脸使我们从来没见过的新人？{}\".format(not True in results))"
   ]
  }
 ],
 "metadata": {
  "kernelspec": {
   "display_name": "Python 3",
   "language": "python",
   "name": "python3"
  },
  "language_info": {
   "codemirror_mode": {
    "name": "ipython",
    "version": 3
   },
   "file_extension": ".py",
   "mimetype": "text/x-python",
   "name": "python",
   "nbconvert_exporter": "python",
   "pygments_lexer": "ipython3",
   "version": "3.6.8"
  }
 },
 "nbformat": 4,
 "nbformat_minor": 2
}
