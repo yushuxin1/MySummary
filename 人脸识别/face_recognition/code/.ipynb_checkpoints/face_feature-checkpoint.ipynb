{
 "cells": [
  {
   "cell_type": "code",
   "execution_count": 2,
   "metadata": {},
   "outputs": [],
   "source": [
    "from PIL import Image, ImageDraw\n",
    "import face_recognition"
   ]
  },
  {
   "cell_type": "code",
   "execution_count": 4,
   "metadata": {},
   "outputs": [
    {
     "name": "stdout",
     "output_type": "stream",
     "text": [
      "我在这张照片找到了2个面孔\n"
     ]
    }
   ],
   "source": [
    "# 将JPG文件加载到numpy数组中\n",
    "image = face_recognition.load_image_file('../image/people.jpg')\n",
    "\n",
    "# 查找图像中所有面部的所有面部特征\n",
    "face_landmarks_list = face_recognition.face_landmarks(image)\n",
    "\n",
    "print(\"我在这张照片找到了{}个面孔\".format(len(face_landmarks_list)))"
   ]
  },
  {
   "cell_type": "code",
   "execution_count": 6,
   "metadata": {},
   "outputs": [
    {
     "name": "stdout",
     "output_type": "stream",
     "text": [
      "该chin在此下面有几点：[(47, 47), (46, 54), (46, 61), (48, 67), (52, 72), (57, 76), (63, 79), (69, 82), (74, 82), (77, 80), (78, 76), (80, 72), (82, 68), (84, 64), (85, 60), (86, 56), (85, 52)]\n",
      "该left_eyebrow在此下面有几点：[(62, 45), (66, 44), (70, 44), (75, 44), (78, 47)]\n",
      "该right_eyebrow在此下面有几点：[(82, 47), (84, 46), (85, 45), (86, 45), (87, 45)]\n",
      "该nose_bridge在此下面有几点：[(79, 52), (80, 56), (81, 60), (82, 64)]\n",
      "该nose_tip在此下面有几点：[(75, 65), (77, 66), (80, 66), (82, 66), (83, 65)]\n",
      "该left_eye在此下面有几点：[(66, 50), (69, 50), (71, 50), (72, 51), (71, 52), (69, 52)]\n",
      "该right_eye在此下面有几点：[(80, 51), (82, 50), (84, 50), (84, 51), (84, 52), (82, 52)]\n",
      "该top_lip在此下面有几点：[(69, 70), (73, 70), (77, 70), (78, 70), (80, 70), (80, 70), (80, 70), (79, 70), (79, 71), (78, 71), (76, 71), (70, 71)]\n",
      "该bottom_lip在此下面有几点：[(80, 70), (79, 72), (79, 73), (77, 74), (76, 74), (72, 73), (69, 70), (70, 71), (76, 71), (78, 71), (79, 71), (79, 70)]\n",
      "该chin在此下面有几点：[(118, 77), (118, 80), (117, 83), (117, 87), (118, 90), (120, 93), (122, 96), (125, 98), (127, 99), (131, 99), (133, 97), (136, 95), (138, 93), (140, 90), (141, 87), (142, 84), (142, 81)]\n",
      "该left_eyebrow在此下面有几点：[(121, 72), (123, 72), (125, 72), (126, 73), (128, 74)]\n",
      "该right_eyebrow在此下面有几点：[(133, 75), (135, 74), (137, 74), (139, 75), (141, 76)]\n",
      "该nose_bridge在此下面有几点：[(130, 77), (130, 79), (130, 82), (129, 84)]\n",
      "该nose_tip在此下面有几点：[(127, 85), (128, 85), (129, 86), (130, 86), (132, 85)]\n",
      "该left_eye在此下面有几点：[(122, 76), (123, 76), (125, 76), (126, 78), (124, 78), (123, 77)]\n",
      "该right_eye在此下面有几点：[(134, 79), (135, 78), (137, 78), (138, 79), (137, 79), (135, 79)]\n",
      "该top_lip在此下面有几点：[(123, 88), (125, 87), (127, 87), (129, 87), (131, 87), (133, 88), (134, 90), (134, 90), (130, 89), (129, 88), (127, 88), (124, 88)]\n",
      "该bottom_lip在此下面有几点：[(134, 90), (133, 93), (130, 94), (128, 94), (127, 93), (124, 92), (123, 88), (124, 88), (127, 92), (129, 92), (131, 92), (134, 90)]\n"
     ]
    }
   ],
   "source": [
    "# 创建一个PIL imagedraw对象，以便我们可以在图像上绘图\n",
    "pil_image = Image.fromarray(image)\n",
    "d = ImageDraw.Draw(pil_image)\n",
    "\n",
    "for face_landmarks in face_landmarks_list:\n",
    "    #  打印此图像中每个面部特征的位置\n",
    "    for facial_feature in face_landmarks.keys():\n",
    "        print(\"该{}在此下面有几点：{}\".format(facial_feature, face_landmarks[facial_feature]))\n",
    "        \n",
    "        #  让我们用线条描绘图像的每个面部特征\n",
    "        for facial_feature in face_landmarks.keys():\n",
    "            d.line(face_landmarks[facial_feature], width=5)\n",
    "    # 图片展示\n",
    "    pil_image.show()"
   ]
  }
 ],
 "metadata": {
  "kernelspec": {
   "display_name": "Python 3",
   "language": "python",
   "name": "python3"
  },
  "language_info": {
   "codemirror_mode": {
    "name": "ipython",
    "version": 3
   },
   "file_extension": ".py",
   "mimetype": "text/x-python",
   "name": "python",
   "nbconvert_exporter": "python",
   "pygments_lexer": "ipython3",
   "version": "3.6.8"
  }
 },
 "nbformat": 4,
 "nbformat_minor": 2
}
