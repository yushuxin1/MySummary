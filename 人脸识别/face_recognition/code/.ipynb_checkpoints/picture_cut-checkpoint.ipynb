{
 "cells": [
  {
   "cell_type": "code",
   "execution_count": 21,
   "metadata": {},
   "outputs": [],
   "source": [
    "from PIL import Image\n",
    "import face_recognition"
   ]
  },
  {
   "cell_type": "code",
   "execution_count": 32,
   "metadata": {},
   "outputs": [
    {
     "name": "stdout",
     "output_type": "stream",
     "text": [
      "[[[ 93 110 104]\n",
      "  [ 87 104  98]\n",
      "  [ 87 104  98]\n",
      "  ...\n",
      "  [ 92  87  68]\n",
      "  [ 90  85  66]\n",
      "  [ 90  85  66]]\n",
      "\n",
      " [[ 99 115 114]\n",
      "  [ 92 108 105]\n",
      "  [ 89 105 104]\n",
      "  ...\n",
      "  [ 89  84  65]\n",
      "  [ 87  82  63]\n",
      "  [ 86  81  62]]\n",
      "\n",
      " [[113 128 133]\n",
      "  [106 121 124]\n",
      "  [ 99 114 119]\n",
      "  ...\n",
      "  [ 86  83  66]\n",
      "  [ 85  82  65]\n",
      "  [ 83  80  63]]\n",
      "\n",
      " ...\n",
      "\n",
      " [[211 177  80]\n",
      "  [209 175  77]\n",
      "  [206 172  74]\n",
      "  ...\n",
      "  [230 228 229]\n",
      "  [240 238 239]\n",
      "  [236 234 235]]\n",
      "\n",
      " [[214 180  83]\n",
      "  [212 178  80]\n",
      "  [208 174  76]\n",
      "  ...\n",
      "  [227 225 226]\n",
      "  [236 234 235]\n",
      "  [234 232 233]]\n",
      "\n",
      " [[217 183  86]\n",
      "  [214 180  82]\n",
      "  [211 177  79]\n",
      "  ...\n",
      "  [232 230 231]\n",
      "  [238 236 237]\n",
      "  [234 232 233]]]\n"
     ]
    }
   ],
   "source": [
    "# 将jpg文件加载到numpy数组中\n",
    "image = face_recognition.load_image_file(\"../image/people.jpg\")\n",
    "print(image)"
   ]
  },
  {
   "cell_type": "code",
   "execution_count": 38,
   "metadata": {},
   "outputs": [
    {
     "name": "stdout",
     "output_type": "stream",
     "text": [
      "[]\n",
      "我在这张照片中找到了0个面孔\n"
     ]
    }
   ],
   "source": [
    "# 使用默认的基于HOG的模型查找图像中的所有面\n",
    "# 这种方法相当准确，但不如CNN模型准确，也没有GPU加速\n",
    "\n",
    "# 在图片中查找所有面孔\n",
    "face_locations = face_recognition.face_locations(image)\n",
    "print(face_locations)\n",
    "print(\"我在这张照片中找到了{}个面孔\".format(len(face_locations)))"
   ]
  },
  {
   "cell_type": "code",
   "execution_count": 36,
   "metadata": {},
   "outputs": [],
   "source": [
    "for face_location in face_locations:\n",
    "    #  打印此图像中每张脸的位置\n",
    "    top, right, bottom, left = face_location\n",
    "    print(\"面部位于像素位置 top：{}, left：{}, bottom： {}, right：{}\".format(top, left, bottom, right))\n",
    "    \n",
    "    #  您可以像这样访问实际面部\n",
    "    #     array转换成image\n",
    "    face_image = image[top: bottom, left: right]\n",
    "    pil_image = Image.fromarray(face_image)\n",
    "    pil_image.show()"
   ]
  },
  {
   "cell_type": "code",
   "execution_count": null,
   "metadata": {},
   "outputs": [],
   "source": []
  }
 ],
 "metadata": {
  "kernelspec": {
   "display_name": "Python 3",
   "language": "python",
   "name": "python3"
  },
  "language_info": {
   "codemirror_mode": {
    "name": "ipython",
    "version": 3
   },
   "file_extension": ".py",
   "mimetype": "text/x-python",
   "name": "python",
   "nbconvert_exporter": "python",
   "pygments_lexer": "ipython3",
   "version": "3.6.8"
  }
 },
 "nbformat": 4,
 "nbformat_minor": 2
}
