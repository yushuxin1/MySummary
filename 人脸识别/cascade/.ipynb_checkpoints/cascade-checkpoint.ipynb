{
 "cells": [
  {
   "cell_type": "code",
   "execution_count": 4,
   "metadata": {},
   "outputs": [
    {
     "data": {
      "text/plain": [
       "'4.1.0'"
      ]
     },
     "execution_count": 4,
     "metadata": {},
     "output_type": "execute_result"
    }
   ],
   "source": [
    "import cv2\n",
    "cv2. __version__"
   ]
  },
  {
   "cell_type": "code",
   "execution_count": 5,
   "metadata": {},
   "outputs": [
    {
     "data": {
      "text/plain": [
       "True"
      ]
     },
     "execution_count": 5,
     "metadata": {},
     "output_type": "execute_result"
    }
   ],
   "source": [
    "# 读取一张图片，引号里是图片路径 0标识灰度图片，1表示彩色图片\n",
    "img = cv2.imread(\"../face_recognition/image/people.jpg\", 1)\n",
    "\n",
    "# 导入人脸分类器引擎，\".xml\"文件里包含训练出来的人脸特征\n",
    "face_engine = cv2.CascadeClassifier(cv2.data.haarcascades+'haarcascade_frontalface_default.xml')\n",
    "# 用人脸级联分类器引擎进行人脸识别，返回的faces为人脸坐标列表，1.3是放大比例，5是重复识别号数\n",
    "faces = face_engine.detectMultiScale(img, scaleFactor=1.3, minNeighbors=5)\n",
    "\n",
    "# 对每一张脸，进行如下操作\n",
    "for(x, y, w, h) in faces:\n",
    "    #   画出人脸框，蓝色（BGR色彩体系），画笔宽度为2\n",
    "    img = cv2.rectangle(img, (x, y), (x+w, y+h), (255, 0, 0), 2)\n",
    "\n",
    "# cv2.startWindowThread() \n",
    "#     在img2窗口中展示效果图\n",
    "cv2.imshow('img2', img)\n",
    "\n",
    "# 监听键盘上任何键，如果有按键即退出并关闭窗口，并将图片保存为output.jpg     图像出现后必须把光标移动到窗口上再按键才会退出\n",
    "cv2.waitKey(0)\n",
    "# 清除所有方框界面\n",
    "cv2.destroyAllWindows()\n",
    "cv2.imwrite('output.jpg', img)"
   ]
  }
 ],
 "metadata": {
  "kernelspec": {
   "display_name": "Python 3",
   "language": "python",
   "name": "python3"
  },
  "language_info": {
   "codemirror_mode": {
    "name": "ipython",
    "version": 3
   },
   "file_extension": ".py",
   "mimetype": "text/x-python",
   "name": "python",
   "nbconvert_exporter": "python",
   "pygments_lexer": "ipython3",
   "version": "3.6.8"
  }
 },
 "nbformat": 4,
 "nbformat_minor": 2
}
